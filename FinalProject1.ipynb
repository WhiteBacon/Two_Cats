{
 "cells": [
  {
   "cell_type": "markdown",
   "metadata": {},
   "source": [
    "# What to open in Colorado?"
   ]
  },
  {
   "cell_type": "markdown",
   "metadata": {},
   "source": [
    "#### According to US news..."
   ]
  },
  {
   "cell_type": "markdown",
   "metadata": {},
   "source": [
    "Colorado has recovered from the worst recession – a steep downturn spanning 2007 to 2009 – since the Great Depression of the 1930s. Unemployment surpassed 10 percent nationwide at the peak, with joblessness running higher in some states. Since then, unemployment has fallen below 5 percent nationally, though the recovery hasn’t been consistent nationwide. The growth of the nation's gross domestic product, 3.2 percent on an annualized basis in the first quarter of 2019, was above that of the previous period.\"\n",
    "\n",
    "In this project we will respond the question \"What is the best city to open a business in Colorado?\" by exploring which ones have been trending lately, as the pandemic slowly takes over the way of how we do business. \n",
    "\n",
    "Our data will include the category of the businesses to analyze and their exact location to then see the volume of that category within a specified area. Although this may only cover some cities, we assure you that the technology we use can be applied to any state you're interested in."
   ]
  },
  {
   "cell_type": "code",
   "execution_count": null,
   "metadata": {},
   "outputs": [],
   "source": []
  }
 ],
 "metadata": {
  "kernelspec": {
   "display_name": "Python",
   "language": "python",
   "name": "conda-env-python-py"
  },
  "language_info": {
   "codemirror_mode": {
    "name": "ipython",
    "version": 3
   },
   "file_extension": ".py",
   "mimetype": "text/x-python",
   "name": "python",
   "nbconvert_exporter": "python",
   "pygments_lexer": "ipython3",
   "version": "3.6.12"
  }
 },
 "nbformat": 4,
 "nbformat_minor": 4
}
