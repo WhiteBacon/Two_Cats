{
 "cells": [
  {
   "cell_type": "markdown",
   "metadata": {},
   "source": [
    "# What to open in Colorado?"
   ]
  },
  {
   "cell_type": "markdown",
   "metadata": {},
   "source": [
    "#### According to US news..."
   ]
  },
  {
   "cell_type": "markdown",
   "metadata": {},
   "source": [
    "Colorado has recovered from the worst recession – a steep downturn spanning 2007 to 2009 – since the Great Depression of the 1930s. Unemployment surpassed 10 percent nationwide at the peak, with joblessness running higher in some states. Since then, unemployment has fallen below 5 percent nationally, though the recovery hasn’t been consistent nationwide. The growth of the nation's gross domestic product, 3.2 percent on an annualized basis in the first quarter of 2019, was above that of the previous period.\n",
    "\n",
    "In this project we will respond the question \"What is the best business category to open in Colorado?\" by exploring which ones have been trending lately, as the pandemic slowly takes over the way of how we do business. \n",
    "\n",
    "Our data will include the category of the businesses to analyze and their exact location to then see the volume of that category within a specified area. Although this may only cover some cities, we assure you that the technology we use can be applied to any state you're interested in."
   ]
  },
  {
   "cell_type": "markdown",
   "metadata": {},
   "source": [
    "Entrepreneurs, free-lancers and business owners are currently looking to see what to do next, as the rules change every day. Consider Monterrey, in Mexico; the government stated that all business operations should be from 9am to 8pm Monday through Saturday, and completely closed on Sundays. In Poland, all non-essential companies have to remain closed until new notice, and so on that every state in every country is taking different measures to deal with this...so the business category is relevant when deciding what your future income is going to be. "
   ]
  },
  {
   "cell_type": "markdown",
   "metadata": {},
   "source": [
    "#### Data to consider"
   ]
  },
  {
   "cell_type": "markdown",
   "metadata": {},
   "source": [
    "We will be using Forsquare API Data to obtain the categories and location of businesses, how many people have checked-in and what is currently being recommended so you can get an idea of what people are looking for these days. Example:\n",
    "name\tcategories\tlat\tlng\n",
    "0\tRoo Bar\tBar\t39.765452\t-104.993964\n",
    "1\tStarbucks\tCoffee Shop\t39.765442\t-104.994562\n",
    "2\tGomez Burritos\tBurrito Place\t39.765200\t-104.994081\n",
    "3\tCity of Cuernavaca Park\tPark\t39.762417\t-105.001044\n",
    "\n"
   ]
  }
 ],
 "metadata": {
  "kernelspec": {
   "display_name": "Python",
   "language": "python",
   "name": "conda-env-python-py"
  },
  "language_info": {
   "codemirror_mode": {
    "name": "ipython",
    "version": 3
   },
   "file_extension": ".py",
   "mimetype": "text/x-python",
   "name": "python",
   "nbconvert_exporter": "python",
   "pygments_lexer": "ipython3",
   "version": "3.6.12"
  }
 },
 "nbformat": 4,
 "nbformat_minor": 4
}
